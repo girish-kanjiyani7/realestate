{
    "cells": [
     {
      "cell_type": "markdown",
      "metadata": {},
      "source": [
       "Feature scalling"
      ]
     },
     {
      "cell_type": "code",
      "execution_count": 1,
      "metadata": {},
      "outputs": [],
      "source": [
       "import pandas as pd\n",
       "df = pd.read_csv('Transformed_Housing_Data2.csv')\n",
       "Y= df.iloc[:,0]\n",
       "X = df.iloc[:,1:31]\n",
       "from sklearn.model_selection import train_test_split\n",
       "X_train, X_test, Y_train, Y_test, = train_test_split(X, Y, test_size=0.3)"
      ]
     },
     {
      "cell_type": "code",
      "execution_count": 2,
      "metadata": {},
      "outputs": [],
      "source": [
       "from sklearn import preprocessing\n",
       "scale = preprocessing.StandardScaler()"
      ]
     },
     {
      "cell_type": "code",
      "execution_count": 3,
      "metadata": {},
      "outputs": [],
      "source": [
       "X_train = scale.fit_transform(X_train)"
      ]
     },
     {
      "cell_type": "code",
      "execution_count": 4,
      "metadata": {},
      "outputs": [],
      "source": [
       "X_test = scale.fit_transform(X_test)"
      ]
     },
     {
      "cell_type": "code",
      "execution_count": null,
      "metadata": {},
      "outputs": [],
      "source": []
     }
    ],
    "metadata": {
     "kernelspec": {
      "display_name": "base",
      "language": "python",
      "name": "python3"
     },
     "language_info": {
      "codemirror_mode": {
       "name": "ipython",
       "version": 3
      },
      "file_extension": ".py",
      "mimetype": "text/x-python",
      "name": "python",
      "nbconvert_exporter": "python",
      "pygments_lexer": "ipython3",
      "version": "3.11.4"
     }
    },
    "nbformat": 4,
    "nbformat_minor": 2
   }
   